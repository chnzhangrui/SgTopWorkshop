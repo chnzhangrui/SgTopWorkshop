{
 "cells": [
  {
   "cell_type": "markdown",
   "metadata": {},
   "source": [
    "# Tutorial for the Single Top Workshop\n",
    "Braga, Portugal from 10-12th December\n",
    "<br>A. Sherman adsherma@bu.edu\n",
    "<br>R. Zhang zhang@physik.uni-bonn.de\n"
   ]
  },
  {
   "cell_type": "markdown",
   "metadata": {},
   "source": [
    "## Part 1: uproot + Keras"
   ]
  },
  {
   "cell_type": "markdown",
   "metadata": {},
   "source": [
    "### [uproot](https://uproot.readthedocs.io/en/latest/) "
   ]
  },
  {
   "cell_type": "markdown",
   "metadata": {},
   "source": [
    "It is reader and a writer of the ROOT file format using only Python and Numpy.\n",
    "It is only an I/O library, primarily intended to stream data into machine learning libraries in Python, and does not depend on C++ ROOT"
   ]
  },
  {
   "cell_type": "markdown",
   "metadata": {},
   "source": [
    "#### Open root files and retrive trees"
   ]
  },
  {
   "cell_type": "code",
   "execution_count": 1,
   "metadata": {},
   "outputs": [
    {
     "data": {
      "text/plain": [
       "[b'TreeS;1', b'TreeB;1']"
      ]
     },
     "execution_count": 1,
     "metadata": {},
     "output_type": "execute_result"
    }
   ],
   "source": [
    "%matplotlib inline\n",
    "import uproot\n",
    "uproot.open(\"tmva_class_example.root\").keys()"
   ]
  },
  {
   "cell_type": "code",
   "execution_count": 2,
   "metadata": {},
   "outputs": [
    {
     "data": {
      "text/plain": [
       "[b'var1', b'var2', b'var3', b'var4']"
      ]
     },
     "execution_count": 2,
     "metadata": {},
     "output_type": "execute_result"
    }
   ],
   "source": [
    "tree_S = uproot.open(\"tmva_class_example.root\")[\"TreeS\"]\n",
    "tree_S.keys()\n"
   ]
  },
  {
   "cell_type": "code",
   "execution_count": 3,
   "metadata": {},
   "outputs": [
    {
     "data": {
      "text/plain": [
       "[b'var1', b'var2', b'var3', b'var4', b'weight']"
      ]
     },
     "execution_count": 3,
     "metadata": {},
     "output_type": "execute_result"
    }
   ],
   "source": [
    "tree_B = uproot.open(\"tmva_class_example.root\")[\"TreeB\"]\n",
    "tree_B.keys()"
   ]
  },
  {
   "cell_type": "markdown",
   "metadata": {},
   "source": [
    "#### Retrieve events according to training variables"
   ]
  },
  {
   "cell_type": "code",
   "execution_count": 4,
   "metadata": {},
   "outputs": [],
   "source": [
    "import pandas\n",
    "events_S = tree_S.pandas.df([\"var1\", \"var2\", \"var3\", \"var4\"]).values\n",
    "events_B = tree_B.pandas.df([\"var1\", \"var2\", \"var3\", \"var4\"]).values"
   ]
  },
  {
   "cell_type": "markdown",
   "metadata": {},
   "source": [
    "Now the contents in a ROOT::TTree is stored in a numpy array called *events_S*.\n",
    "<br> Have a look at *events_S*."
   ]
  },
  {
   "cell_type": "code",
   "execution_count": 5,
   "metadata": {},
   "outputs": [],
   "source": [
    "import numpy as np\n",
    "np.set_printoptions(suppress=True)\n"
   ]
  },
  {
   "cell_type": "markdown",
   "metadata": {},
   "source": [
    "### A tour of the input ROOT file"
   ]
  },
  {
   "cell_type": "code",
   "execution_count": 6,
   "metadata": {},
   "outputs": [
    {
     "data": {
      "image/png": "[encoded data removed]",
      "text/plain": [
       "<Figure size 432x288 with 1 Axes>"
      ]
     },
     "metadata": {
      "needs_background": "light"
     },
     "output_type": "display_data"
    },
    {
     "data": {
      "image/png": "[encoded data removed]",
      "text/plain": [
       "<Figure size 432x288 with 1 Axes>"
      ]
     },
     "metadata": {
      "needs_background": "light"
     },
     "output_type": "display_data"
    },
    {
     "data": {
      "image/png": "[encoded data removed]",
      "text/plain": [
       "<Figure size 432x288 with 1 Axes>"
      ]
     },
     "metadata": {
      "needs_background": "light"
     },
     "output_type": "display_data"
    },
    {
     "data": {
      "image/png": "[encoded data removed]",
      "text/plain": [
       "<Figure size 432x288 with 1 Axes>"
      ]
     },
     "metadata": {
      "needs_background": "light"
     },
     "output_type": "display_data"
    }
   ],
   "source": [
    "import matplotlib.pyplot as plt\n",
    "for i in range(4):\n",
    "    plt.hist(events_S.T[i], histtype='step')\n",
    "    plt.hist(events_B.T[i], histtype='step')\n",
    "    plt.ylabel('Events')\n",
    "    plt.xlabel('Var '+str(i))\n",
    "    plt.show()"
   ]
  },
  {
   "cell_type": "markdown",
   "metadata": {},
   "source": [
    "<font color='blue'>No single variable could separate signal from background easily!</font>"
   ]
  },
  {
   "cell_type": "markdown",
   "metadata": {},
   "source": [
    "### [Keras](https://keras.io)"
   ]
  },
  {
   "cell_type": "markdown",
   "metadata": {},
   "source": [
    "It is a high-level neural networks API, written in Python and capable of running on top of TensorFlow, CNTK, or Theano.\n",
    "<br>Runs seamlessly on CPU and GPU."
   ]
  },
  {
   "cell_type": "markdown",
   "metadata": {},
   "source": [
    "#### Split training and test samples\n",
    "Craft target arrays for signal and background"
   ]
  },
  {
   "cell_type": "code",
   "execution_count": 7,
   "metadata": {},
   "outputs": [
    {
     "name": "stdout",
     "output_type": "stream",
     "text": [
      "[ 0.71169233  2.0996766  -0.8134158  ...  0.94072056 -1.297956\n",
      " -0.8198628 ]\n"
     ]
    }
   ],
   "source": [
    "from sklearn.model_selection import train_test_split\n",
    "train_x_S, test_x_S = train_test_split(events_S, train_size=0.6, test_size=0.4)\n",
    "train_x_B, test_x_B = train_test_split(events_B, train_size=0.6, test_size=0.4)\n",
    "\n",
    "train_y_S = np.reshape([1 for x in range(len(train_x_S))], (len(train_x_S), 1))\n",
    "test_y_S = np.reshape([1 for x in range(len(test_x_S))], (len(test_x_S), 1))\n",
    "train_y_B = np.reshape([0 for x in range(len(train_x_B))], (len(train_x_B), 1))\n",
    "test_y_B = np.reshape([0 for x in range(len(test_x_B))], (len(test_x_B), 1))\n",
    "\n",
    "train_x = np.concatenate((train_x_S, train_x_B))\n",
    "train_y = np.concatenate((train_y_S, train_y_B))\n",
    "test_x = np.concatenate((test_x_S, test_x_B))\n",
    "test_y = np.concatenate((test_y_S, test_y_B))\n",
    "\n",
    "print(train_x_S.T[0])\n"
   ]
  },
  {
   "cell_type": "markdown",
   "metadata": {},
   "source": [
    "Check **shapes** of arrays\n",
    " - y=target should have a shape of (No. event, 1)\n",
    " - x=event should have a shape of (No. event, No. variable)"
   ]
  },
  {
   "cell_type": "code",
   "execution_count": 8,
   "metadata": {},
   "outputs": [
    {
     "name": "stdout",
     "output_type": "stream",
     "text": [
      "7200 (7200, 4)\n",
      "7200 (7200, 1)\n",
      "4800 (4800, 4)\n",
      "4800 (4800, 1)\n"
     ]
    }
   ],
   "source": [
    "print(len(train_x), train_x.shape)\n",
    "print(len(train_y), train_y.shape)\n",
    "print(len(test_x), test_x.shape)\n",
    "print(len(test_y), test_y.shape)\n"
   ]
  },
  {
   "cell_type": "markdown",
   "metadata": {},
   "source": [
    "#### Build up a multi-layer neural network"
   ]
  },
  {
   "cell_type": "code",
   "execution_count": 9,
   "metadata": {},
   "outputs": [
    {
     "name": "stderr",
     "output_type": "stream",
     "text": [
      "Using Theano backend.\n"
     ]
    },
    {
     "name": "stdout",
     "output_type": "stream",
     "text": [
      "_________________________________________________________________\n",
      "Layer (type)                 Output Shape              Param #   \n",
      "=================================================================\n",
      "dense_1 (Dense)              (None, 4)                 20        \n",
      "_________________________________________________________________\n",
      "dense_2 (Dense)              (None, 4)                 20        \n",
      "_________________________________________________________________\n",
      "dense_3 (Dense)              (None, 1)                 5         \n",
      "=================================================================\n",
      "Total params: 45\n",
      "Trainable params: 45\n",
      "Non-trainable params: 0\n",
      "_________________________________________________________________\n"
     ]
    }
   ],
   "source": [
    "from os import environ\n",
    "environ['KERAS_BACKEND'] = 'theano'\n",
    "\n",
    "from keras import models\n",
    "from keras import layers\n",
    "from keras.models import Sequential\n",
    "from keras.layers import Dense, Dropout\n",
    "\n",
    "model = Sequential()\n",
    "# Input - Layer\n",
    "model.add(layers.Dense(4, activation = \"relu\", input_shape=(train_x.shape[1], )))\n",
    "# Hidden - Layers\n",
    "model.add(layers.Dense(4, activation = \"elu\"))\n",
    "# model.add(layers.Dense(8, activation = \"elu\"))\n",
    "# model.add(layers.Dropout(0.2, noise_shape=None, seed=None))\n",
    "# model.add(layers.Dense(8, activation = \"elu\"))\n",
    "# model.add(layers.Dropout(0.2, noise_shape=None, seed=None))\n",
    "# model.add(layers.Dense(8, activation = \"elu\"))\n",
    "# model.add(layers.Dropout(0.2, noise_shape=None, seed=None))\n",
    "# model.add(layers.Dense(8, activation = \"relu\"))\n",
    "# Output - Layer\n",
    "model.add(layers.Dense(1, activation = \"sigmoid\"))\n",
    "model.summary()"
   ]
  },
  {
   "cell_type": "markdown",
   "metadata": {},
   "source": [
    "#### Compile model before using it\n",
    "Need to think about what *optimizer*, *loss*, *metrics* to use"
   ]
  },
  {
   "cell_type": "code",
   "execution_count": 10,
   "metadata": {},
   "outputs": [],
   "source": [
    "from keras.optimizers import SGD\n",
    "\n",
    "sgd = SGD(lr=0.01, momentum=0.8)\n",
    "model.compile(optimizer = sgd, loss = \"binary_crossentropy\", metrics=['accuracy'])"
   ]
  },
  {
   "cell_type": "markdown",
   "metadata": {},
   "source": [
    "#### Fit the model\n",
    "We are now able to train/fit our model"
   ]
  },
  {
   "cell_type": "code",
   "execution_count": 11,
   "metadata": {
    "scrolled": true
   },
   "outputs": [
    {
     "name": "stdout",
     "output_type": "stream",
     "text": [
      "Train on 7200 samples, validate on 4800 samples\n",
      "Epoch 1/100\n",
      "7200/7200 [==============================] - 0s 2us/step - loss: 0.6949 - acc: 0.5840 - val_loss: 0.6563 - val_acc: 0.6117\n",
      "Epoch 2/100\n",
      "7200/7200 [==============================] - 0s 2us/step - loss: 0.6488 - acc: 0.6128 - val_loss: 0.6328 - val_acc: 0.6229\n",
      "Epoch 3/100\n",
      "7200/7200 [==============================] - 0s 4us/step - loss: 0.6292 - acc: 0.6221 - val_loss: 0.6162 - val_acc: 0.6352\n",
      "Epoch 4/100\n",
      "7200/7200 [==============================] - 0s 3us/step - loss: 0.6138 - acc: 0.6333 - val_loss: 0.6026 - val_acc: 0.6431\n",
      "Epoch 5/100\n",
      "7200/7200 [==============================] - 0s 3us/step - loss: 0.6012 - acc: 0.6508 - val_loss: 0.5908 - val_acc: 0.6792\n",
      "Epoch 6/100\n",
      "7200/7200 [==============================] - 0s 3us/step - loss: 0.5895 - acc: 0.6854 - val_loss: 0.5796 - val_acc: 0.7085\n",
      "Epoch 7/100\n",
      "7200/7200 [==============================] - 0s 4us/step - loss: 0.5781 - acc: 0.7151 - val_loss: 0.5684 - val_acc: 0.7340\n",
      "Epoch 8/100\n",
      "7200/7200 [==============================] - 0s 3us/step - loss: 0.5671 - acc: 0.7368 - val_loss: 0.5575 - val_acc: 0.7473\n",
      "Epoch 9/100\n",
      "7200/7200 [==============================] - 0s 3us/step - loss: 0.5564 - acc: 0.7481 - val_loss: 0.5474 - val_acc: 0.7504\n",
      "Epoch 10/100\n",
      "7200/7200 [==============================] - 0s 3us/step - loss: 0.5467 - acc: 0.7522 - val_loss: 0.5379 - val_acc: 0.7552\n",
      "Epoch 11/100\n",
      "7200/7200 [==============================] - 0s 3us/step - loss: 0.5376 - acc: 0.7521 - val_loss: 0.5293 - val_acc: 0.7583\n",
      "Epoch 12/100\n",
      "7200/7200 [==============================] - 0s 3us/step - loss: 0.5292 - acc: 0.7578 - val_loss: 0.5213 - val_acc: 0.7633\n",
      "Epoch 13/100\n",
      "7200/7200 [==============================] - 0s 3us/step - loss: 0.5217 - acc: 0.7600 - val_loss: 0.5140 - val_acc: 0.7638\n",
      "Epoch 14/100\n",
      "7200/7200 [==============================] - 0s 3us/step - loss: 0.5145 - acc: 0.7642 - val_loss: 0.5071 - val_acc: 0.7677\n",
      "Epoch 15/100\n",
      "7200/7200 [==============================] - 0s 3us/step - loss: 0.5080 - acc: 0.7660 - val_loss: 0.5009 - val_acc: 0.7704\n",
      "Epoch 16/100\n",
      "7200/7200 [==============================] - 0s 3us/step - loss: 0.5019 - acc: 0.7686 - val_loss: 0.4948 - val_acc: 0.7748\n",
      "Epoch 17/100\n",
      "7200/7200 [==============================] - 0s 3us/step - loss: 0.4963 - acc: 0.7693 - val_loss: 0.4894 - val_acc: 0.7760\n",
      "Epoch 18/100\n",
      "7200/7200 [==============================] - 0s 3us/step - loss: 0.4910 - acc: 0.7719 - val_loss: 0.4842 - val_acc: 0.7800\n",
      "Epoch 19/100\n",
      "7200/7200 [==============================] - 0s 3us/step - loss: 0.4862 - acc: 0.7750 - val_loss: 0.4793 - val_acc: 0.7813\n",
      "Epoch 20/100\n",
      "7200/7200 [==============================] - 0s 3us/step - loss: 0.4814 - acc: 0.7769 - val_loss: 0.4745 - val_acc: 0.7823\n",
      "Epoch 21/100\n",
      "7200/7200 [==============================] - 0s 3us/step - loss: 0.4768 - acc: 0.7778 - val_loss: 0.4698 - val_acc: 0.7848\n",
      "Epoch 22/100\n",
      "7200/7200 [==============================] - 0s 3us/step - loss: 0.4725 - acc: 0.7806 - val_loss: 0.4654 - val_acc: 0.7860\n",
      "Epoch 23/100\n",
      "7200/7200 [==============================] - 0s 4us/step - loss: 0.4682 - acc: 0.7831 - val_loss: 0.4610 - val_acc: 0.7867\n",
      "Epoch 24/100\n",
      "7200/7200 [==============================] - 0s 3us/step - loss: 0.4641 - acc: 0.7846 - val_loss: 0.4568 - val_acc: 0.7902\n",
      "Epoch 25/100\n",
      "7200/7200 [==============================] - 0s 3us/step - loss: 0.4597 - acc: 0.7857 - val_loss: 0.4522 - val_acc: 0.7913\n",
      "Epoch 26/100\n",
      "7200/7200 [==============================] - 0s 3us/step - loss: 0.4555 - acc: 0.7868 - val_loss: 0.4478 - val_acc: 0.7923\n",
      "Epoch 27/100\n",
      "7200/7200 [==============================] - 0s 3us/step - loss: 0.4512 - acc: 0.7901 - val_loss: 0.4434 - val_acc: 0.7942\n",
      "Epoch 28/100\n",
      "7200/7200 [==============================] - 0s 3us/step - loss: 0.4469 - acc: 0.7928 - val_loss: 0.4391 - val_acc: 0.7965\n",
      "Epoch 29/100\n",
      "7200/7200 [==============================] - 0s 3us/step - loss: 0.4428 - acc: 0.7976 - val_loss: 0.4347 - val_acc: 0.8000\n",
      "Epoch 30/100\n",
      "7200/7200 [==============================] - 0s 3us/step - loss: 0.4384 - acc: 0.7979 - val_loss: 0.4303 - val_acc: 0.8038\n",
      "Epoch 31/100\n",
      "7200/7200 [==============================] - 0s 2us/step - loss: 0.4339 - acc: 0.8019 - val_loss: 0.4257 - val_acc: 0.8054\n",
      "Epoch 32/100\n",
      "7200/7200 [==============================] - 0s 3us/step - loss: 0.4294 - acc: 0.8019 - val_loss: 0.4209 - val_acc: 0.8094\n",
      "Epoch 33/100\n",
      "7200/7200 [==============================] - 0s 3us/step - loss: 0.4245 - acc: 0.8072 - val_loss: 0.4159 - val_acc: 0.8140\n",
      "Epoch 34/100\n",
      "7200/7200 [==============================] - 0s 3us/step - loss: 0.4196 - acc: 0.8103 - val_loss: 0.4105 - val_acc: 0.8162\n",
      "Epoch 35/100\n",
      "7200/7200 [==============================] - 0s 3us/step - loss: 0.4142 - acc: 0.8119 - val_loss: 0.4050 - val_acc: 0.8179\n",
      "Epoch 36/100\n",
      "7200/7200 [==============================] - 0s 3us/step - loss: 0.4087 - acc: 0.8161 - val_loss: 0.3994 - val_acc: 0.8212\n",
      "Epoch 37/100\n",
      "7200/7200 [==============================] - 0s 3us/step - loss: 0.4031 - acc: 0.8183 - val_loss: 0.3939 - val_acc: 0.8248\n",
      "Epoch 38/100\n",
      "7200/7200 [==============================] - 0s 3us/step - loss: 0.3972 - acc: 0.8219 - val_loss: 0.3882 - val_acc: 0.8296\n",
      "Epoch 39/100\n",
      "7200/7200 [==============================] - 0s 3us/step - loss: 0.3917 - acc: 0.8269 - val_loss: 0.3828 - val_acc: 0.8327\n",
      "Epoch 40/100\n",
      "7200/7200 [==============================] - 0s 3us/step - loss: 0.3857 - acc: 0.8313 - val_loss: 0.3770 - val_acc: 0.8358\n",
      "Epoch 41/100\n",
      "7200/7200 [==============================] - 0s 3us/step - loss: 0.3802 - acc: 0.8326 - val_loss: 0.3718 - val_acc: 0.8400\n",
      "Epoch 42/100\n",
      "7200/7200 [==============================] - 0s 3us/step - loss: 0.3749 - acc: 0.8365 - val_loss: 0.3672 - val_acc: 0.8435\n",
      "Epoch 43/100\n",
      "7200/7200 [==============================] - 0s 4us/step - loss: 0.3703 - acc: 0.8397 - val_loss: 0.3624 - val_acc: 0.8492\n",
      "Epoch 44/100\n",
      "7200/7200 [==============================] - 0s 3us/step - loss: 0.3648 - acc: 0.8425 - val_loss: 0.3579 - val_acc: 0.8504\n",
      "Epoch 45/100\n",
      "7200/7200 [==============================] - 0s 3us/step - loss: 0.3609 - acc: 0.8447 - val_loss: 0.3544 - val_acc: 0.8521\n",
      "Epoch 46/100\n",
      "7200/7200 [==============================] - 0s 3us/step - loss: 0.3577 - acc: 0.8442 - val_loss: 0.3514 - val_acc: 0.8527\n",
      "Epoch 47/100\n",
      "7200/7200 [==============================] - 0s 3us/step - loss: 0.3546 - acc: 0.8446 - val_loss: 0.3489 - val_acc: 0.8517\n",
      "Epoch 48/100\n",
      "7200/7200 [==============================] - 0s 3us/step - loss: 0.3526 - acc: 0.8450 - val_loss: 0.3459 - val_acc: 0.8527\n",
      "Epoch 49/100\n",
      "7200/7200 [==============================] - 0s 4us/step - loss: 0.3491 - acc: 0.8458 - val_loss: 0.3440 - val_acc: 0.8535\n",
      "Epoch 50/100\n",
      "7200/7200 [==============================] - 0s 2us/step - loss: 0.3464 - acc: 0.8474 - val_loss: 0.3417 - val_acc: 0.8521\n",
      "Epoch 51/100\n",
      "7200/7200 [==============================] - 0s 2us/step - loss: 0.3446 - acc: 0.8496 - val_loss: 0.3402 - val_acc: 0.8519\n",
      "Epoch 52/100\n",
      "7200/7200 [==============================] - 0s 3us/step - loss: 0.3429 - acc: 0.8494 - val_loss: 0.3387 - val_acc: 0.8527\n",
      "Epoch 53/100\n",
      "7200/7200 [==============================] - 0s 3us/step - loss: 0.3413 - acc: 0.8508 - val_loss: 0.3375 - val_acc: 0.8527\n",
      "Epoch 54/100\n",
      "7200/7200 [==============================] - 0s 3us/step - loss: 0.3404 - acc: 0.8500 - val_loss: 0.3365 - val_acc: 0.8544\n",
      "Epoch 55/100\n",
      "7200/7200 [==============================] - 0s 2us/step - loss: 0.3392 - acc: 0.8511 - val_loss: 0.3355 - val_acc: 0.8535\n",
      "Epoch 56/100\n",
      "7200/7200 [==============================] - 0s 3us/step - loss: 0.3379 - acc: 0.8521 - val_loss: 0.3346 - val_acc: 0.8552\n",
      "Epoch 57/100\n",
      "7200/7200 [==============================] - 0s 3us/step - loss: 0.3372 - acc: 0.8506 - val_loss: 0.3341 - val_acc: 0.8538\n",
      "Epoch 58/100\n",
      "7200/7200 [==============================] - 0s 3us/step - loss: 0.3372 - acc: 0.8499 - val_loss: 0.3340 - val_acc: 0.8542\n",
      "Epoch 59/100\n",
      "7200/7200 [==============================] - 0s 3us/step - loss: 0.3363 - acc: 0.8521 - val_loss: 0.3332 - val_acc: 0.8542\n",
      "Epoch 60/100\n",
      "7200/7200 [==============================] - 0s 3us/step - loss: 0.3353 - acc: 0.8519 - val_loss: 0.3325 - val_acc: 0.8560\n"
     ]
    },
    {
     "name": "stdout",
     "output_type": "stream",
     "text": [
      "Epoch 61/100\n",
      "7200/7200 [==============================] - 0s 2us/step - loss: 0.3346 - acc: 0.8519 - val_loss: 0.3321 - val_acc: 0.8548\n",
      "Epoch 62/100\n",
      "7200/7200 [==============================] - 0s 2us/step - loss: 0.3347 - acc: 0.8510 - val_loss: 0.3329 - val_acc: 0.8540\n",
      "Epoch 63/100\n",
      "7200/7200 [==============================] - 0s 3us/step - loss: 0.3353 - acc: 0.8522 - val_loss: 0.3318 - val_acc: 0.8550\n",
      "Epoch 64/100\n",
      "7200/7200 [==============================] - 0s 3us/step - loss: 0.3333 - acc: 0.8515 - val_loss: 0.3313 - val_acc: 0.8552\n",
      "Epoch 65/100\n",
      "7200/7200 [==============================] - 0s 3us/step - loss: 0.3330 - acc: 0.8510 - val_loss: 0.3313 - val_acc: 0.8556\n",
      "Epoch 66/100\n",
      "7200/7200 [==============================] - 0s 3us/step - loss: 0.3332 - acc: 0.8529 - val_loss: 0.3307 - val_acc: 0.8548\n",
      "Epoch 67/100\n",
      "7200/7200 [==============================] - 0s 2us/step - loss: 0.3322 - acc: 0.8518 - val_loss: 0.3311 - val_acc: 0.8540\n",
      "Epoch 68/100\n",
      "7200/7200 [==============================] - 0s 3us/step - loss: 0.3331 - acc: 0.8515 - val_loss: 0.3309 - val_acc: 0.8560\n",
      "Epoch 69/100\n",
      "7200/7200 [==============================] - 0s 3us/step - loss: 0.3320 - acc: 0.8528 - val_loss: 0.3314 - val_acc: 0.8556\n",
      "Epoch 70/100\n",
      "7200/7200 [==============================] - 0s 3us/step - loss: 0.3324 - acc: 0.8529 - val_loss: 0.3310 - val_acc: 0.8542\n",
      "Epoch 71/100\n",
      "7200/7200 [==============================] - 0s 8us/step - loss: 0.3316 - acc: 0.8526 - val_loss: 0.3300 - val_acc: 0.8558\n",
      "Epoch 72/100\n",
      "7200/7200 [==============================] - 0s 6us/step - loss: 0.3312 - acc: 0.8532 - val_loss: 0.3301 - val_acc: 0.8552\n",
      "Epoch 73/100\n",
      "7200/7200 [==============================] - 0s 4us/step - loss: 0.3309 - acc: 0.8542 - val_loss: 0.3307 - val_acc: 0.8548\n",
      "Epoch 74/100\n",
      "7200/7200 [==============================] - 0s 5us/step - loss: 0.3304 - acc: 0.8543 - val_loss: 0.3303 - val_acc: 0.8540\n",
      "Epoch 75/100\n",
      "7200/7200 [==============================] - 0s 5us/step - loss: 0.3309 - acc: 0.8526 - val_loss: 0.3294 - val_acc: 0.8550\n",
      "Epoch 76/100\n",
      "7200/7200 [==============================] - 0s 3us/step - loss: 0.3312 - acc: 0.8514 - val_loss: 0.3293 - val_acc: 0.8550\n",
      "Epoch 77/100\n",
      "7200/7200 [==============================] - 0s 3us/step - loss: 0.3298 - acc: 0.8531 - val_loss: 0.3296 - val_acc: 0.8546\n",
      "Epoch 78/100\n",
      "7200/7200 [==============================] - 0s 3us/step - loss: 0.3304 - acc: 0.8533 - val_loss: 0.3295 - val_acc: 0.8552\n",
      "Epoch 79/100\n",
      "7200/7200 [==============================] - 0s 4us/step - loss: 0.3298 - acc: 0.8531 - val_loss: 0.3294 - val_acc: 0.8542\n",
      "Epoch 80/100\n",
      "7200/7200 [==============================] - 0s 3us/step - loss: 0.3299 - acc: 0.8540 - val_loss: 0.3290 - val_acc: 0.8544\n",
      "Epoch 81/100\n",
      "7200/7200 [==============================] - 0s 3us/step - loss: 0.3292 - acc: 0.8533 - val_loss: 0.3292 - val_acc: 0.8538\n",
      "Epoch 82/100\n",
      "7200/7200 [==============================] - 0s 3us/step - loss: 0.3290 - acc: 0.8539 - val_loss: 0.3289 - val_acc: 0.8527\n",
      "Epoch 83/100\n",
      "7200/7200 [==============================] - 0s 3us/step - loss: 0.3292 - acc: 0.8526 - val_loss: 0.3293 - val_acc: 0.8540\n",
      "Epoch 84/100\n",
      "7200/7200 [==============================] - 0s 4us/step - loss: 0.3292 - acc: 0.8508 - val_loss: 0.3287 - val_acc: 0.8554\n",
      "Epoch 85/100\n",
      "7200/7200 [==============================] - 0s 3us/step - loss: 0.3286 - acc: 0.8546 - val_loss: 0.3283 - val_acc: 0.8552\n",
      "Epoch 86/100\n",
      "7200/7200 [==============================] - 0s 4us/step - loss: 0.3286 - acc: 0.8514 - val_loss: 0.3306 - val_acc: 0.8531\n",
      "Epoch 87/100\n",
      "7200/7200 [==============================] - 0s 3us/step - loss: 0.3293 - acc: 0.8533 - val_loss: 0.3290 - val_acc: 0.8525\n",
      "Epoch 88/100\n",
      "7200/7200 [==============================] - 0s 3us/step - loss: 0.3296 - acc: 0.8531 - val_loss: 0.3285 - val_acc: 0.8550\n",
      "Epoch 89/100\n",
      "7200/7200 [==============================] - 0s 3us/step - loss: 0.3282 - acc: 0.8538 - val_loss: 0.3284 - val_acc: 0.8544\n",
      "Epoch 90/100\n",
      "7200/7200 [==============================] - 0s 2us/step - loss: 0.3281 - acc: 0.8531 - val_loss: 0.3298 - val_acc: 0.8540\n",
      "Epoch 91/100\n",
      "7200/7200 [==============================] - 0s 2us/step - loss: 0.3285 - acc: 0.8531 - val_loss: 0.3286 - val_acc: 0.8537\n",
      "Epoch 92/100\n",
      "7200/7200 [==============================] - 0s 3us/step - loss: 0.3280 - acc: 0.8538 - val_loss: 0.3283 - val_acc: 0.8537\n",
      "Epoch 93/100\n",
      "7200/7200 [==============================] - 0s 3us/step - loss: 0.3276 - acc: 0.8540 - val_loss: 0.3290 - val_acc: 0.8515\n",
      "Epoch 94/100\n",
      "7200/7200 [==============================] - 0s 3us/step - loss: 0.3285 - acc: 0.8518 - val_loss: 0.3277 - val_acc: 0.8538\n",
      "Epoch 95/100\n",
      "7200/7200 [==============================] - 0s 3us/step - loss: 0.3276 - acc: 0.8538 - val_loss: 0.3280 - val_acc: 0.8544\n",
      "Epoch 96/100\n",
      "7200/7200 [==============================] - 0s 3us/step - loss: 0.3284 - acc: 0.8546 - val_loss: 0.3286 - val_acc: 0.8544\n",
      "Epoch 97/100\n",
      "7200/7200 [==============================] - 0s 3us/step - loss: 0.3276 - acc: 0.8528 - val_loss: 0.3279 - val_acc: 0.8542\n",
      "Epoch 98/100\n",
      "7200/7200 [==============================] - 0s 3us/step - loss: 0.3275 - acc: 0.8522 - val_loss: 0.3291 - val_acc: 0.8542\n",
      "Epoch 99/100\n",
      "7200/7200 [==============================] - 0s 3us/step - loss: 0.3274 - acc: 0.8532 - val_loss: 0.3287 - val_acc: 0.8546\n",
      "Epoch 100/100\n",
      "7200/7200 [==============================] - 0s 3us/step - loss: 0.3276 - acc: 0.8510 - val_loss: 0.3283 - val_acc: 0.8565\n"
     ]
    },
    {
     "data": {
      "text/plain": [
       "[0.328260858853658, 0.8564583333333333]"
      ]
     },
     "execution_count": 11,
     "metadata": {},
     "output_type": "execute_result"
    }
   ],
   "source": [
    "results = model.fit(train_x, train_y, epochs= 100, batch_size = 512, validation_data = (test_x, test_y), verbose=1)\n",
    "model.evaluate(train_x, train_y, verbose=0)\n",
    "model.evaluate(test_x, test_y, verbose=0)\n"
   ]
  },
  {
   "cell_type": "markdown",
   "metadata": {},
   "source": [
    "#### Check results"
   ]
  },
  {
   "cell_type": "markdown",
   "metadata": {},
   "source": [
    "1. Plot **loss** and **accuracy** for each epoch"
   ]
  },
  {
   "cell_type": "code",
   "execution_count": 12,
   "metadata": {},
   "outputs": [
    {
     "name": "stdout",
     "output_type": "stream",
     "text": [
      "dict_keys(['val_loss', 'val_acc', 'loss', 'acc'])\n"
     ]
    },
    {
     "data": {
      "image/png": "[encoded data removed]",
      "text/plain": [
       "<Figure size 432x288 with 1 Axes>"
      ]
     },
     "metadata": {
      "needs_background": "light"
     },
     "output_type": "display_data"
    },
    {
     "data": {
      "image/png": "[encoded data removed]",
      "text/plain": [
       "<Figure size 432x288 with 1 Axes>"
      ]
     },
     "metadata": {
      "needs_background": "light"
     },
     "output_type": "display_data"
    }
   ],
   "source": [
    "import matplotlib.pyplot as plt\n",
    "\n",
    "print(results.history.keys())\n",
    "# summarize history for accuracy\n",
    "plt.plot(results.history['acc'])\n",
    "plt.plot(results.history['val_acc'])\n",
    "plt.title('model accuracy')\n",
    "plt.ylabel('accuracy')\n",
    "plt.xlabel('epoch')\n",
    "plt.legend(['train', 'test'], loc='upper left')\n",
    "plt.show()\n",
    "# summarize history for loss\n",
    "plt.plot(results.history['loss'])\n",
    "plt.plot(results.history['val_loss'])\n",
    "plt.title('model loss')\n",
    "plt.ylabel('loss')\n",
    "plt.xlabel('epoch')\n",
    "plt.legend(['train', 'test'], loc='upper left')\n",
    "plt.show()"
   ]
  },
  {
   "cell_type": "markdown",
   "metadata": {},
   "source": [
    "It is time to evaluate our model:"
   ]
  },
  {
   "cell_type": "code",
   "execution_count": 13,
   "metadata": {},
   "outputs": [],
   "source": [
    "train_predict = model.predict(train_x)\n",
    "test_predict = model.predict(test_x)\n"
   ]
  },
  {
   "cell_type": "markdown",
   "metadata": {},
   "source": [
    "2. Plot **ROC**"
   ]
  },
  {
   "cell_type": "code",
   "execution_count": 14,
   "metadata": {},
   "outputs": [
    {
     "data": {
      "image/png": "[encoded data removed]",
      "text/plain": [
       "<Figure size 432x288 with 1 Axes>"
      ]
     },
     "metadata": {
      "needs_background": "light"
     },
     "output_type": "display_data"
    }
   ],
   "source": [
    "import matplotlib.pyplot as plt\n",
    "from sklearn.metrics import roc_curve, auc\n",
    "\n",
    "def plotROC(test_y, test_predict, train_y, train_predict):\n",
    "    train__false_positive, train__true_positive, train__thresholds = roc_curve(train_y, train_predict)\n",
    "    test__false_positive, test__true_positive, test__thresholds = roc_curve(test_y, test_predict)\n",
    "    train__roc_auc = auc(train__false_positive, train__true_positive)\n",
    "    test__roc_auc = auc(test__false_positive, test__true_positive)\n",
    "\n",
    "    plt.title('Receiver Operating Characteristic')\n",
    "    plt.plot(train__false_positive, train__true_positive, 'g--', label='Train AUC = %0.2f'% train__roc_auc)\n",
    "    plt.plot(test__false_positive, test__true_positive, 'b', label='Test AUC = %0.2f'% test__roc_auc)\n",
    "\n",
    "    plt.legend(loc='lower right')\n",
    "    plt.plot([0,1],[0,1],'r--')\n",
    "    plt.xlim([-0.,1.])\n",
    "    plt.ylim([-0.,1.])\n",
    "    plt.ylabel('True Positive Rate')\n",
    "    plt.xlabel('False Positive Rate')\n",
    "    plt.show()\n",
    "#     plt.gcf().clear()\n",
    "\n",
    "plotROC(test_y, test_predict, train_y, train_predict)"
   ]
  },
  {
   "cell_type": "code",
   "execution_count": 15,
   "metadata": {},
   "outputs": [
    {
     "name": "stdout",
     "output_type": "stream",
     "text": [
      "Traing ROC:  0.9333480709876543\n",
      "Test ROC:    0.9325527777777779\n"
     ]
    }
   ],
   "source": [
    "from sklearn.metrics import roc_auc_score\n",
    "\n",
    "print('Traing ROC: ', roc_auc_score(train_y, train_predict))\n",
    "print('Test ROC:   ', roc_auc_score(test_y, test_predict))\n"
   ]
  },
  {
   "cell_type": "markdown",
   "metadata": {},
   "source": [
    "3. Plot **distributions**"
   ]
  },
  {
   "cell_type": "code",
   "execution_count": 16,
   "metadata": {},
   "outputs": [
    {
     "data": {
      "image/png": "[encoded data removed]",
      "text/plain": [
       "<Figure size 432x288 with 2 Axes>"
      ]
     },
     "metadata": {
      "needs_background": "light"
     },
     "output_type": "display_data"
    }
   ],
   "source": [
    "xlo, xhi, nbin = 0.,1,10\n",
    "def plotResponse(test_y, test_predict, train_y, train_predict):\n",
    "\n",
    "    plt.subplot(1, 2, 1)\n",
    "    plt.hist(train_predict[train_y == 1], range=[xlo, xhi], bins=nbin, histtype=\"step\", density=0, label='Training signal')\n",
    "    plt.hist(train_predict[train_y == 0], range=[xlo, xhi], bins=nbin, histtype=\"step\", density=0, label='Training bkg')\n",
    "    plt.hist(test_predict[test_y == 1],   range=[xlo, xhi], bins=nbin, histtype=\"step\", density=0, label='Test signal', linestyle='dashed')\n",
    "    plt.hist(test_predict[test_y == 0],   range=[xlo, xhi], bins=nbin, histtype=\"step\", density=0, label='Test bkg', linestyle='dashed')\n",
    "    plt.ylim(0, plt.gca().get_ylim()[1] * 1.5)\n",
    "    plt.legend()\n",
    "    plt.xlabel('Response', horizontalalignment='left', fontsize='large')\n",
    "    plt.title('Absolute')\n",
    "\n",
    "    plt.subplot(1, 2, 2)\n",
    "    plt.hist(train_predict[train_y == 1], range=[xlo, xhi], bins=nbin, histtype=\"step\", density=1, label='Training signal')\n",
    "    plt.hist(train_predict[train_y == 0], range=[xlo, xhi], bins=nbin, histtype=\"step\", density=1, label='Training bkg')\n",
    "    plt.hist(test_predict[test_y == 1],   range=[xlo, xhi], bins=nbin, histtype=\"step\", density=1, label='Test signal', linestyle='dashed')\n",
    "    plt.hist(test_predict[test_y == 0],   range=[xlo, xhi], bins=nbin, histtype=\"step\", density=1, label='Test bkg', linestyle='dashed')\n",
    "    plt.ylim(0, plt.gca().get_ylim()[1] * 1.5)\n",
    "    plt.legend()\n",
    "    plt.xlabel('Response', horizontalalignment='left', fontsize='large')\n",
    "    plt.title('Normalised')\n",
    "\n",
    "    plt.show()\n",
    "#     plt.gcf().clear()\n",
    "\n",
    "plotResponse(test_y, test_predict, train_y, train_predict)\n"
   ]
  },
  {
   "cell_type": "markdown",
   "metadata": {},
   "source": [
    "### Execises"
   ]
  },
  {
   "cell_type": "markdown",
   "metadata": {},
   "source": [
    "1. Set learning rate to 0.2 and see what will happen\n",
    "<br>SGD(lr=0.2)\n",
    "2. Switch back to rl=0.01, and set SGD momentum to 0.9\n",
    "<br>SGD(momentum=0.9)"
   ]
  },
  {
   "cell_type": "markdown",
   "metadata": {},
   "source": [
    "## Part 2: Implementing\n",
    "\n",
    "#### Save model to disk\n",
    "Hierarchical Data Format (**HDF**) is a set of file formats (HDF4, HDF5) designed to store and organize large amounts of data.\n",
    "\n",
    "h5 file containes:\n",
    "- the architecture of the model, allowing to re-create the model\n",
    "- the weights of the model\n",
    "- the training configuration (loss, optimizer)\n",
    "- the state of the optimizer, allowing to resume training exactly where you left off."
   ]
  },
  {
   "cell_type": "code",
   "execution_count": 17,
   "metadata": {},
   "outputs": [
    {
     "name": "stdout",
     "output_type": "stream",
     "text": [
      "Saved KerasModel to disk\n"
     ]
    }
   ],
   "source": [
    "def SaveModel(model):\n",
    "    filePre = 'KerasModel'\n",
    "    # serialize model to JSON\n",
    "    model_json = model.to_json()\n",
    "    with open(filePre + \".json\", \"w\") as json_file:\n",
    "        json_file.write(model_json)\n",
    "    # serialize weights to HDF5\n",
    "    model.save_weights(filePre + \".h5\")\n",
    "    print(\"Saved \"+ filePre + \" to disk\")\n",
    "\n",
    "SaveModel(model)"
   ]
  },
  {
   "cell_type": "markdown",
   "metadata": {},
   "source": [
    "#### Load model from disk"
   ]
  },
  {
   "cell_type": "code",
   "execution_count": 18,
   "metadata": {},
   "outputs": [
    {
     "name": "stdout",
     "output_type": "stream",
     "text": [
      "Loaded KerasModel from disk\n"
     ]
    }
   ],
   "source": [
    "from keras.models import model_from_json\n",
    "\n",
    "def LoadModel():\n",
    "    filePre = 'KerasModel'\n",
    "    # load json and create model\n",
    "    json_file = open(filePre + '.json', 'r')\n",
    "    loaded_model_json = json_file.read()\n",
    "    json_file.close()\n",
    "    loaded_model = model_from_json(loaded_model_json)\n",
    "    # load weights into new model\n",
    "    loaded_model.load_weights(filePre + '.h5')\n",
    "    print(\"Loaded \"+ filePre + \" from disk\")\n",
    "    return loaded_model\n",
    "\n",
    "loaded_model = LoadModel()"
   ]
  },
  {
   "cell_type": "markdown",
   "metadata": {},
   "source": [
    "#### Store response to ROOT files\n"
   ]
  },
  {
   "cell_type": "markdown",
   "metadata": {},
   "source": [
    "<font color='red'>uproot does not support writing TTree yet!</font>\n",
    "<font color='red'><br>Current recommendation is using [root_numpy](http://scikit-hep.org/root_numpy/)</font>\n",
    "<font color='red'><br>Histogram is supported though.</font>\n"
   ]
  },
  {
   "cell_type": "code",
   "execution_count": 19,
   "metadata": {},
   "outputs": [],
   "source": [
    "import uproot, numpy\n",
    "f = uproot.recreate(\"Templates.root\")\n",
    "f[\"Train_bkg\"] = numpy.histogram(train_predict[train_y == 0])\n",
    "f[\"Train_signal\"] = numpy.histogram(train_predict[train_y == 1])\n",
    "f[\"Test_bkg\"] = numpy.histogram(test_predict[test_y == 0])\n",
    "f[\"Test_signal\"] = numpy.histogram(test_predict[test_y == 1])"
   ]
  },
  {
   "cell_type": "code",
   "execution_count": null,
   "metadata": {},
   "outputs": [],
   "source": []
  }
 ],
 "metadata": {
  "kernelspec": {
   "display_name": "Python 3",
   "language": "python",
   "name": "python3"
  },
  "language_info": {
   "codemirror_mode": {
    "name": "ipython",
    "version": 3
   },
   "file_extension": ".py",
   "mimetype": "text/x-python",
   "name": "python",
   "nbconvert_exporter": "python",
   "pygments_lexer": "ipython3",
   "version": "3.7.0"
  }
 },
 "nbformat": 4,
 "nbformat_minor": 2
}
